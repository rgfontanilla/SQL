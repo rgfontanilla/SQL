{
  "metadata": {
    "language_info": {
      "codemirror_mode": "sql",
      "file_extension": "",
      "mimetype": "",
      "name": "sql",
      "version": "3.32.3"
    },
    "kernelspec": {
      "name": "SQLite",
      "display_name": "SQLite",
      "language": "sql"
    }
  },
  "nbformat_minor": 4,
  "nbformat": 4,
  "cells": [
    {
      "cell_type": "markdown",
      "source": "**Table creation**.\nCreating the tables for the E-commerce database, namely customers, inventory, orders, products, and transactions.",
      "metadata": {}
    },
    {
      "cell_type": "code",
      "source": "--Create table for Customers\nCREATE TABLE customers (\n  customer_id INT PRIMARY KEY,\n  customer_name VARCHAR(20),\n  address VARCHAR(20),\n  email VARCHAR(50)\n);",
      "metadata": {
        "trusted": true
      },
      "execution_count": null,
      "outputs": []
    },
    {
      "cell_type": "code",
      "source": "--Create table for Products\nCREATE TABLE products(\nproduct_id INT PRIMARY KEY,\nproduct_name VARCHAR (20),\ncategory VARCHAR (20),\nprice INT\n);",
      "metadata": {
        "trusted": true
      },
      "execution_count": null,
      "outputs": []
    },
    {
      "cell_type": "code",
      "source": "--Create tables for Orders\nCREATE TABLE orders (\n  order_id INT PRIMARY KEY,\n  customer_id INT,\n  order_date DATE,\n  total_amount DECIMAL(10, 2),\n  FOREIGN KEY (customer_id) REFERENCES customers(customer_id)\n);",
      "metadata": {
        "trusted": true
      },
      "execution_count": null,
      "outputs": []
    },
    {
      "cell_type": "code",
      "source": "--Create tables for Transactions\nCREATE TABLE transactions (\n  transaction_id INT PRIMARY KEY,\n  order_id INT,\n  product_id INT,\n  transaction_date DATE,\n  FOREIGN KEY (order_id) REFERENCES orders(order_id),\n  FOREIGN KEY (product_id) REFERENCES products(product_id)\n);",
      "metadata": {},
      "execution_count": null,
      "outputs": []
    },
    {
      "cell_type": "markdown",
      "source": "**Inserting records into the table**\n\nI have only selected a few entries as the data set for each table contains 20 records. This is done for the purpose of showcasing the querying process.",
      "metadata": {}
    },
    {
      "cell_type": "code",
      "source": "--Inserting of customer names\nINSERT INTO customers (customer_id, customer_name, address, email)\nVALUES\n  (4, 'Emily Brown', '567 Pine St', 'emily@example.com'),\n  (5, 'Michael Wilson', '890 Maple Ave', 'michael@example.com'),\n  (6, 'Sophia Davis', '234 Cedar St', 'sophia@example.com'),\n  (7, 'Daniel Miller', '901 Oak St', 'daniel@example.com'),",
      "metadata": {
        "trusted": true
      },
      "execution_count": null,
      "outputs": []
    },
    {
      "cell_type": "code",
      "source": "--Inserting of products and its values\nINSERT INTO products VALUES (1, 'Laptop', 'Electronics', 1200);\nINSERT INTO products VALUES (2, 'Smartphone', 'Electronics', 800);\nINSERT INTO products VALUES (3, 'T-shirt', 'Clothing',  25);\nINSERT INTO products VALUES (4, 'Shoes', 'Footwear', 80);",
      "metadata": {
        "trusted": true
      },
      "execution_count": null,
      "outputs": []
    },
    {
      "cell_type": "code",
      "source": "--Inserting of orders\nINSERT INTO orders (order_id, customer_id, order_date, total_amount)\nVALUES \n(1, 1, '2022-01-15', 1500),\n(2, 2, '2022-02-10', 600),\n(3, 3, '2022-03-20', 350);",
      "metadata": {
        "trusted": true
      },
      "execution_count": null,
      "outputs": []
    },
    {
      "cell_type": "code",
      "source": "--Inserting of transactions\nINSERT INTO transactions (transaction_id, order_id, product_id, transaction_date)\nVALUES (1, 1, 1, '2022-01-15'),\n(2, 1, 3, '2022-01-15'),\n(3, 2, 2,'2022-02-10'),\n(4, 2, 4, '2022-02-10'),\n(5, 3, 3, '2022-03-20');",
      "metadata": {
        "trusted": true
      },
      "execution_count": null,
      "outputs": []
    }
  ]
}