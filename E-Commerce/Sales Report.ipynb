{
  "metadata": {
    "language_info": {
      "codemirror_mode": "sql",
      "file_extension": "",
      "mimetype": "",
      "name": "sql",
      "version": "3.32.3"
    },
    "kernelspec": {
      "name": "SQLite",
      "display_name": "SQLite",
      "language": "sql"
    }
  },
  "nbformat_minor": 4,
  "nbformat": 4,
  "cells": [
    {
      "cell_type": "markdown",
      "source": "Sales Report",
      "metadata": {}
    },
    {
      "cell_type": "code",
      "source": "--Find the total sales for each product\nSELECT p.product_name, SUM(o.total_amount) AS total_sales\nFROM orders o\nJOIN products p ON p.product_id = o.customer_id\nGROUP BY p.product_name;",
      "metadata": {},
      "execution_count": null,
      "outputs": []
    },
    {
      "cell_type": "code",
      "source": "-- Find the top-selling product based on total sales.\nSELECT TOP 1 p.product_name, SUM(o.total_amount) AS total_sales\nFROM orders o\nJOIN products p ON o.order_id = p.product_id\nGROUP BY p.product_name\nORDER BY total_sales DESC;",
      "metadata": {},
      "execution_count": null,
      "outputs": []
    },
    {
      "cell_type": "code",
      "source": "--Find the total sales for each product\nSELECT p.product_name, SUM(o.total_amount) AS total_sales\nFROM orders o\nJOIN products p ON p.product_id = o.customer_id\nGROUP BY p.product_name;",
      "metadata": {},
      "execution_count": null,
      "outputs": []
    },
    {
      "cell_type": "code",
      "source": "--Find out which month has the highests sales recorded\nSELECT TOP 1 DATEPART(MONTH, order_date) AS month, SUM(total_amount) AS total_sales\nFROM orders\nGROUP BY DATEPART(MONTH, order_date)\nORDER BY total_sales DESC;",
      "metadata": {},
      "execution_count": null,
      "outputs": []
    },
    {
      "cell_type": "code",
      "source": "--Average sales from all the orders recorded\nSELECT AVG(total_amount) AS average_sales\nFROM orders;",
      "metadata": {},
      "execution_count": null,
      "outputs": []
    }
  ]
}