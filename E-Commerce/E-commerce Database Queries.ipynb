{
  "metadata": {
    "language_info": {
      "codemirror_mode": "sql",
      "file_extension": "",
      "mimetype": "",
      "name": "sql",
      "version": "3.32.3"
    },
    "kernelspec": {
      "name": "SQLite",
      "display_name": "SQLite",
      "language": "sql"
    }
  },
  "nbformat_minor": 4,
  "nbformat": 4,
  "cells": [
    {
      "cell_type": "markdown",
      "source": "Adding and Updating",
      "metadata": {}
    },
    {
      "cell_type": "code",
      "source": "--Updating of stock/updating quantity\nUPDATE inventory\nSET quantity = 13\nWHERE product_id = 3;",
      "metadata": {
        "trusted": true
      },
      "execution_count": null,
      "outputs": []
    },
    {
      "cell_type": "markdown",
      "source": "<span style=\"font-size: 13px;\">Updated the quantity of the product_id 3, which is the T-shirt, from 15 to 13.\n<br>    \n    The <b>SET</b> clause is utilized to indicate the target column(s) where the updated values should be applied, whereas the <b>WHERE</b> clause specifies the specific row(s) that should reflect those changes. By employing the SET and WHERE clauses in conjunction, we can precisely define the column(s) and row(s) that need to be updated in the database.\n</span>\n",
      "metadata": {}
    },
    {
      "cell_type": "code",
      "source": "--Adding additional columns  in the customers table such as phone_number and birdate.\nALTER TABLE customers\nADD phone_number VARCHAR(20),\n\tbirthdate DATE;",
      "metadata": {
        "trusted": true
      },
      "execution_count": null,
      "outputs": []
    },
    {
      "cell_type": "markdown",
      "source": "<span style=\"font-size: 13px;\">Since the customer table did not initially have the phone numbers and birthdate columns, I added them to the existing table using the ALTER TABLE statement along with the AND clause.</span>",
      "metadata": {}
    },
    {
      "cell_type": "markdown",
      "source": "Customer Profiles",
      "metadata": {}
    },
    {
      "cell_type": "code",
      "source": "--Updating customer phone number\nUPDATE customers\nSET phone_number = CASE\n\tWHEN customer_id = 9 THEN '555-123-4567'\n\tWHEN customer_id = 16 THEN '555-987-6543'\n\tWHEN customer_id = 2 THEN '555-555-5555'\n\tWHEN customer_id = 14 THEN '555-888-9999'\n\tWHEN customer_id = 7 THEN '555-333-2222'\n\tELSE NULL\n\tEND;",
      "metadata": {
        "trusted": true
      },
      "execution_count": null,
      "outputs": []
    },
    {
      "cell_type": "code",
      "source": "--Updating customer birthdates \nUPDATE customers\nSET birthdate = CASE\n\tWHEN customer_id = 9 THEN '1993-01-17'\n\tWHEN customer_id = 16 THEN '1994-02-04'\n\tWHEN customer_id = 2 THEN '1992-05-23'\n\tWHEN customer_id = 14 THEN '1996-06-15'\n\tWHEN customer_id = 7 THEN '1995-10-31'\n\tELSE NULL\n\tEND;",
      "metadata": {},
      "execution_count": null,
      "outputs": []
    },
    {
      "cell_type": "markdown",
      "source": "Order Tracking\n<br>\n<span style=\"font-size: 13px;\">Most of these implemented queries are designed to track and retrieve order status information for specific orders.</span>",
      "metadata": {}
    },
    {
      "cell_type": "code",
      "source": "--Find the order status for the specified customer name\t\nSELECT os.status\nFROM order_status os\nJOIN orders o ON os.order_id = o.order_id\nJOIN customers c ON o.customer_id = c.customer_id\nWHERE c.customer_name = 'Michael Wilson';\n",
      "metadata": {
        "trusted": true
      },
      "execution_count": null,
      "outputs": []
    },
    {
      "cell_type": "code",
      "source": "--Find the order status and customer name for the specifide customer ID\nSELECT os.status, c.customer_name\nFROM order_status os\nJOIN orders o ON os.order_id = o.order_id\nJOIN customers c ON o.customer_id = c.customer_id\nWHERE o.customer_id = 11;",
      "metadata": {
        "trusted": true
      },
      "execution_count": null,
      "outputs": []
    },
    {
      "cell_type": "code",
      "source": "--Updating an order status from Processing to Canceled\nUPDATE order_status\nSET status = 'Canceled'\nWHERE order_id = 16;",
      "metadata": {
        "trusted": true
      },
      "execution_count": null,
      "outputs": []
    },
    {
      "cell_type": "code",
      "source": "--Finding the order status for the speicified order ID\nSELECT status as '1 status'\nFROM order_status\nWHERE order_id = 1;",
      "metadata": {},
      "execution_count": null,
      "outputs": []
    }
  ]
}