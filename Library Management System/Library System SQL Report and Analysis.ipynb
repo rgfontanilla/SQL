{
  "metadata": {
    "language_info": {
      "codemirror_mode": "sql",
      "file_extension": "",
      "mimetype": "",
      "name": "sql",
      "version": "3.32.3"
    },
    "kernelspec": {
      "name": "SQLite",
      "display_name": "SQLite",
      "language": "sql"
    }
  },
  "nbformat_minor": 4,
  "nbformat": 4,
  "cells": [
    {
      "cell_type": "markdown",
      "source": "Create a database table for storing information about books.\n",
      "metadata": {}
    },
    {
      "cell_type": "code",
      "source": "--Create table for books\nCREATE TABLE books ( --This line initiates the creation of a new database table called \"books.\nbook_id INT PRIMARY KEY, --\nauthor_id INT,\nbook_title VARCHAR(20),\ngenre VARCHAR (20)\n);\n\nALTER TABLE books --  This part specifies that you want to modify the \"books\" table.\nADD FOREIGN KEY(author_id) REFERENCES authors(author_id); --This line adds a foreign key constraint to the \"author_id\" column in the \"books\" table. ",
      "metadata": {},
      "execution_count": null,
      "outputs": []
    },
    {
      "cell_type": "markdown",
      "source": "This SQL script creates a database table named \"books\" to store information about books. The table has columns for a unique book ID, author ID, book title, and genre. Additionally, it establishes a relationship between the \"books\" table and another table called \"authors\" by adding a foreign key constraint on the \"author_id\" column in the \"books\" table, ensuring that author IDs in the \"books\" table correspond to valid author IDs in the \"authors\" table. This script is a common practice in database design to manage relationships between entities, like books and their authors, in a structured manner.\n\n",
      "metadata": {}
    },
    {
      "cell_type": "markdown",
      "source": "**More on this** or structure of the book tables with the following columns.\n\n`book_id INT PRIMARY KEY:` This column is a data type type INT or integer, since it uses integer number for book IDS, and is designated as primary key.\n`author_id INT`: This column is also a data type INT (integer) and is used to store the identifier of the author of the book/s.\n<br>\n`book_title VARCHAR(20)`: This column is of the datatype VARCHAR, which is used for strings of variable length. It can hold book titles with a maximum length of 20 characters.\n<br>\n`genre VARCHAR(20)`: This column is also of VARCHAR type and can store the genre of the book, with a maximum length of 20 characters.",
      "metadata": {}
    },
    {
      "cell_type": "markdown",
      "source": " Data insertion into the books table:\n",
      "metadata": {}
    },
    {
      "cell_type": "code",
      "source": "INSERT INTO books (book_id, author_id, book_title, genre)\nVALUES (1, 1, 'To Kill A Mockingbird', 'Southern Gothic'),\n(2, 2, '1984', 'Dystopian'),\n(3, 3, 'Pride and Prejudice', 'Romance'),\n",
      "metadata": {},
      "execution_count": null,
      "outputs": []
    },
    {
      "cell_type": "markdown",
      "source": "Breakdown:\n<br>\n`INSERT INTO books`:This is the part of the statement that specifies that we want to insert data into the table called \"books\".\n<BR>\n`(book_id, author_id, book_title, genre)`:This is where you list the names of the columns in the Books table into which you want to insert the data. These column names are followed by the values of the data that we would like to insert.   \n`VALUES`:The keyword indicates that it is about to specify the specific values to be inserted into the specified columns.\n",
      "metadata": {}
    },
    {
      "cell_type": "markdown",
      "source": "I have also implemented tables for authors, book logs, and borrowers; however, due to potential length constraints, I will not include them in this document. Instead, I will focus solely on presenting the queries I have developed for analysis.",
      "metadata": {}
    },
    {
      "cell_type": "markdown",
      "source": "I wanted to view what the scheme is specifically the column names and data types for my books table with this query:",
      "metadata": {}
    },
    {
      "cell_type": "code",
      "source": "SELECT COLUMN_NAME, DATA_TYPE\nFROM INFORMATION_SCHEMA.COLUMNS\nWHERE TABLE_NAME = 'books';",
      "metadata": {},
      "execution_count": null,
      "outputs": []
    },
    {
      "cell_type": "markdown",
      "source": "There's also an instance where a data entry for an author's last name was misspelled and written in all capital letters, so I corrected it with this:",
      "metadata": {}
    },
    {
      "cell_type": "code",
      "source": "--Update the name spelling for author George Orwell\nUPDATE authors\nSET author_name = 'George Orwell'\nWHERE author_name = 'George OWELL'",
      "metadata": {},
      "execution_count": null,
      "outputs": []
    },
    {
      "cell_type": "markdown",
      "source": "<p style=\"font-weight: bold; font-size: 20px;\">Data Analysis</p>\n",
      "metadata": {}
    },
    {
      "cell_type": "code",
      "source": "--Show borrower names and the books they borrowed\nSELECT b.name AS Borrower_Names, bl.book_id, bo.book_title\nFROM borrowers b\nJOIN book_logs bl ON b.borrower_id = bl.borrower_id\nJOIN books bo ON bl.book_id = bo.book_id;",
      "metadata": {},
      "execution_count": null,
      "outputs": []
    },
    {
      "cell_type": "code",
      "source": "--Show the phone number for a certain book borrower\nSELECT b.name, b.phone, bl.transaction_id\nFROM borrowers b\nJOIN book_logs bl ON bl.borrower_id = b.borrower_id\nWHERE b.name = 'Michael Wilson';",
      "metadata": {},
      "execution_count": null,
      "outputs": []
    },
    {
      "cell_type": "code",
      "source": "--Retrieve the names of customers whose return dates are pending, along with their corresponding transaction IDs.\nSELECT bl.transaction_id, b.name, bl.due_date\nFROM borrowers b\nJOIN book_logs bl ON bl.borrower_id = b.borrower_id\nWHERE bL.date_returned IS NULL;",
      "metadata": {},
      "execution_count": null,
      "outputs": []
    },
    {
      "cell_type": "code",
      "source": "--Retrieve borrowers names and the books they borrowed as well as return date and due date\nSELECT b.name, bl.book_id, bo.book_title, bl.date_returned,  bl.due_date\nFROM borrowers b\nJOIN book_logs bl ON b.borrower_id = bl.borrower_id\nJOIN books bo ON bl.book_id = bo.book_id;",
      "metadata": {},
      "execution_count": null,
      "outputs": []
    },
    {
      "cell_type": "code",
      "source": "--Show all dates where returned dates are NULL\nSELECT bl.transaction_id, bl.book_id, bl.date_borrowed, bl.date_returned, bl.due_date, bl.borrower_id, bo.name, bo.email\nFROM book_logs bl\nJOIN borrowers bo ON bo.borrower_id = bl.transaction_id\nWHERE bl.date_returned IS NULL;",
      "metadata": {},
      "execution_count": null,
      "outputs": []
    }
  ]
}